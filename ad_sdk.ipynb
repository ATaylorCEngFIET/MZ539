{
 "cells": [
  {
   "cell_type": "code",
   "execution_count": 162,
   "id": "57518025-26fe-4680-8f10-1f76d8bde4c7",
   "metadata": {},
   "outputs": [],
   "source": [
    "from ctypes import *\n",
    "from dwfconstants import *\n",
    "import math\n",
    "import sys\n",
    "import time\n",
    "import matplotlib.pyplot as plt\n",
    "import numpy"
   ]
  },
  {
   "cell_type": "code",
   "execution_count": 163,
   "id": "bc68976f-f6e5-43bd-b3a1-47368107811d",
   "metadata": {},
   "outputs": [],
   "source": [
    "from ctypes import *\n",
    "import sys\n",
    "\n",
    "if sys.platform.startswith(\"win\"):\n",
    "    dwf = cdll.dwf\n",
    "elif sys.platform.startswith(\"darwin\"):\n",
    "    dwf = cdll.LoadLibrary(\"libdwf.dylib\")\n",
    "else:\n",
    "    dwf = cdll.LoadLibrary(\"libdwf.so\")"
   ]
  },
  {
   "cell_type": "code",
   "execution_count": 170,
   "id": "64af3cfe-bb70-4f89-9fb1-6319f9190a91",
   "metadata": {},
   "outputs": [
    {
     "name": "stdout",
     "output_type": "stream",
     "text": [
      "DWF Version: b'3.20.1'\n",
      "Opening first device\n"
     ]
    },
    {
     "data": {
      "text/plain": [
       "1"
      ]
     },
     "execution_count": 170,
     "metadata": {},
     "output_type": "execute_result"
    }
   ],
   "source": [
    "hdwf = c_int()\n",
    "\n",
    "version = create_string_buffer(16)\n",
    "dwf.FDwfGetVersion(version)\n",
    "print(\"DWF Version: \"+str(version.value))\n",
    "\n",
    "print(\"Opening first device\")\n",
    "dwf.FDwfDeviceOpen(c_int(-1), byref(hdwf))"
   ]
  },
  {
   "cell_type": "markdown",
   "id": "26d3ae31-e046-4b3e-b76f-5e00d45d750e",
   "metadata": {},
   "source": [
    "FDwfDigitalOutInternalClockInfo - Retrives the internal clock frequency "
   ]
  },
  {
   "cell_type": "code",
   "execution_count": 171,
   "id": "0aed43ff-0f34-40ed-94c8-f9f23b3eff62",
   "metadata": {},
   "outputs": [
    {
     "name": "stdout",
     "output_type": "stream",
     "text": [
      "clock frequency is 100000000.0\n"
     ]
    }
   ],
   "source": [
    "hzRate = 1e6 # frequency\n",
    "cChannels = 8\n",
    "cSamples = 16\n",
    "cBytes = int(math.ceil(cSamples/8))\n",
    "rgSamples = [0x0000,0x0001,0x0002,0x0003,0x0004,0x0005,0x0006,0x0007,0x0008,0x0009,0x000A,0x000B,0x000C,0x000D,0x000E,0x000F]\n",
    "hzDO = c_double()\n",
    "dwf.FDwfDigitalOutInternalClockInfo(hdwf, byref(hzDO))\n",
    "print(\"clock frequency is\", hzDO.value)"
   ]
  },
  {
   "cell_type": "markdown",
   "id": "edbdc478-73d2-4a7c-86b0-adac8f6da94f",
   "metadata": {},
   "source": [
    "FDwfDigitalOutEnableSet(HDWF hdwf, int idxChannel, int fEnable) - enables a digital output identified by channnel\n",
    "\n",
    "FDwfDigitalOutTypeSet(HDWF hdwf, int idxChannel, DwfDigitalOutType v) - Set the type of output e.g. pulse, custom, random\n",
    "\n",
    "FDwfDigitalOutDividerSet(HDWF hdwf, int idxChannel, unsigned int v) - sets the divider for a channel - e.g. sampe rate this uses the clock frequency divided by the requested clock output.\n",
    "\n",
    "FDwfDigitalOutDataSet(\n",
    "HDWF hdwf, int idxChannel, void *rgBits, unsigned int countOfBits - Sets the bits as below in the custom array which defines data and output enable the array is requried for each bit of the bus \n",
    "\n",
    "FDwfDigitalOutRunSet(HDWF hdwf, double secRun) - defines the run lentgh in seconds - here it is determined by the number of samples generared and the clock rate \n",
    "\n",
    "FDwfDigitalOutRepeatSet(HDWF hdwf, unsigned int cRepeat) - defines the number of repeat counters lol\n",
    "\n",
    ")\n"
   ]
  },
  {
   "attachments": {
    "52f2255d-94d3-43ba-9be0-faeae9a6561d.png": {
     "image/png": "[encoded data removed]"
    }
   },
   "cell_type": "markdown",
   "id": "c309e61e-d231-47ae-8673-cfdf8831ca6b",
   "metadata": {},
   "source": [
    "![image.png](attachment:52f2255d-94d3-43ba-9be0-faeae9a6561d.png)"
   ]
  },
  {
   "cell_type": "code",
   "execution_count": 172,
   "id": "d146ed02-7739-402b-acb1-f0941c16eb5b",
   "metadata": {},
   "outputs": [
    {
     "data": {
      "text/plain": [
       "1"
      ]
     },
     "execution_count": 172,
     "metadata": {},
     "output_type": "execute_result"
    }
   ],
   "source": [
    "for channel in range(cChannels): # configure output channels\n",
    "    rgBits = (cBytes*c_byte)() # custom bit array for each channel\n",
    "    for sample in range(cSamples): # using the bits from samples array construct the bit array for the channel\n",
    "        if(1&(rgSamples[int(sample)]>>channel)) : rgBits[int(sample/8)] |= 1<<(sample&7)\n",
    "        else : rgBits[int(sample/8)] &= ~(1<<(sample&7))\n",
    "    dwf.FDwfDigitalOutEnableSet(hdwf, c_int(channel), c_int(1))\n",
    "    dwf.FDwfDigitalOutTypeSet(hdwf, c_int(channel), DwfDigitalOutTypeCustom)\n",
    "    dwf.FDwfDigitalOutDividerSet(hdwf, c_int(channel), c_int(int(hzDO.value/hzRate))) # set sample rate\n",
    "    dwf.FDwfDigitalOutDataSet(hdwf, c_int(channel), byref(rgBits), c_int(cSamples))\n",
    "\n",
    "dwf.FDwfDigitalOutRunSet(hdwf, c_double(cSamples/hzRate)) # 160ns = 2*8 bits /100MHz = 16 bits * 10ns\n",
    "dwf.FDwfDigitalOutRepeatSet(hdwf, c_int(1)) # once"
   ]
  },
  {
   "cell_type": "markdown",
   "id": "8aa2c9b3-c3d5-4498-a860-47f700278b6f",
   "metadata": {},
   "source": [
    "Generate a clock "
   ]
  },
  {
   "cell_type": "code",
   "execution_count": 173,
   "id": "24ba5579-64c8-48e5-883f-690774df5006",
   "metadata": {},
   "outputs": [
    {
     "data": {
      "text/plain": [
       "1"
      ]
     },
     "execution_count": 173,
     "metadata": {},
     "output_type": "execute_result"
    }
   ],
   "source": [
    "dwf.FDwfDigitalOutEnableSet(hdwf, c_int(8), c_int(1))\n",
    "dwf.FDwfDigitalOutTypeSet(hdwf, c_int(8), DwfDigitalOutTypePulse)\n",
    "dwf.FDwfDigitalOutDividerSet(hdwf, c_int(8), c_int(int(hzDO.value/(2*hzRate))))\n",
    "dwf.FDwfDigitalOutCounterSet(hdwf, c_int(8), c_int(1), c_int(1))"
   ]
  },
  {
   "cell_type": "markdown",
   "id": "7d1ed0e0-2d58-4540-8ccd-4350e89d415d",
   "metadata": {},
   "source": [
    "Run the instrument and send the data \n",
    "\n",
    "FDwfDigitalOutConfigure(HDWF hdwf, int fStart) - run the digital output"
   ]
  },
  {
   "cell_type": "code",
   "execution_count": 178,
   "id": "e5b0a006-2766-4a6a-bd6c-95151fda5347",
   "metadata": {},
   "outputs": [
    {
     "data": {
      "text/plain": [
       "1"
      ]
     },
     "execution_count": 178,
     "metadata": {},
     "output_type": "execute_result"
    }
   ],
   "source": [
    "dwf.FDwfDigitalOutConfigure(hdwf, c_int(1))"
   ]
  },
  {
   "cell_type": "code",
   "execution_count": 169,
   "id": "e4fd7fbe-2ce4-4823-9ee7-ce62c18851ce",
   "metadata": {},
   "outputs": [
    {
     "data": {
      "text/plain": [
       "1"
      ]
     },
     "execution_count": 169,
     "metadata": {},
     "output_type": "execute_result"
    }
   ],
   "source": [
    "dwf.FDwfDeviceCloseAll()\n"
   ]
  },
  {
   "cell_type": "code",
   "execution_count": null,
   "id": "39f3a4f3-0ce2-4d35-8b22-60ade9ed9254",
   "metadata": {},
   "outputs": [],
   "source": []
  },
  {
   "cell_type": "code",
   "execution_count": null,
   "id": "349d7b23-eb74-4a91-a9c2-dcbf37d8d189",
   "metadata": {},
   "outputs": [],
   "source": []
  }
 ],
 "metadata": {
  "kernelspec": {
   "display_name": "Python 3 (ipykernel)",
   "language": "python",
   "name": "python3"
  },
  "language_info": {
   "codemirror_mode": {
    "name": "ipython",
    "version": 3
   },
   "file_extension": ".py",
   "mimetype": "text/x-python",
   "name": "python",
   "nbconvert_exporter": "python",
   "pygments_lexer": "ipython3",
   "version": "3.11.7"
  }
 },
 "nbformat": 4,
 "nbformat_minor": 5
}
